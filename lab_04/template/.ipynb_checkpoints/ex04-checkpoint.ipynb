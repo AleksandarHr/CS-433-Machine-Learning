{
 "cells": [
  {
   "cell_type": "code",
   "execution_count": 1,
   "metadata": {},
   "outputs": [],
   "source": [
    "# Useful starting lines\n",
    "%matplotlib inline\n",
    "import numpy as np\n",
    "import matplotlib.pyplot as plt\n",
    "%load_ext autoreload\n",
    "%autoreload 2"
   ]
  },
  {
   "cell_type": "markdown",
   "metadata": {},
   "source": [
    "# Cross-Validation and Bias-Variance decomposition\n",
    "## Cross-Validation\n",
    "Implementing 4-fold cross-validation below:"
   ]
  },
  {
   "cell_type": "code",
   "execution_count": 2,
   "metadata": {},
   "outputs": [],
   "source": [
    "from helpers import load_data\n",
    "\n",
    "# load dataset\n",
    "x, y = load_data()"
   ]
  },
  {
   "cell_type": "code",
   "execution_count": 3,
   "metadata": {},
   "outputs": [],
   "source": [
    "def build_k_indices(y, k_fold, seed):\n",
    "    \"\"\"build k indices for k-fold.\"\"\"\n",
    "    num_row = y.shape[0]\n",
    "    interval = int(num_row / k_fold)\n",
    "    np.random.seed(seed)\n",
    "    indices = np.random.permutation(num_row)\n",
    "    k_indices = [indices[k * interval: (k + 1) * interval]\n",
    "                 for k in range(k_fold)]\n",
    "    return np.array(k_indices)"
   ]
  },
  {
   "cell_type": "code",
   "execution_count": 4,
   "metadata": {},
   "outputs": [
    {
     "name": "stdout",
     "output_type": "stream",
     "text": [
      "[[32 39 21 36 19 42 49 26 22 13]\n",
      " [41 17 45 24 23  4 33 14 30 10]\n",
      " [28 44 34 18 20 25  6  7 47  1]\n",
      " [16  0 15  5 11  9  8 12 43 37]]\n",
      "(50,)\n",
      "(50,)\n"
     ]
    }
   ],
   "source": [
    "ind = build_k_indices(y, 5, 1)\n",
    "print(np.delete(ind,0,axis=0))\n",
    "print(y.shape)\n",
    "print(x.shape)"
   ]
  },
  {
   "cell_type": "code",
   "execution_count": 5,
   "metadata": {},
   "outputs": [],
   "source": [
    "from costs import compute_mse\n",
    "from ridge_regression import ridge_regression\n",
    "from build_polynomial import build_poly\n",
    "\n",
    "def cross_validation(y, x, k_indices, k, lambda_, degree):\n",
    "    \"\"\"return the loss of ridge regression.\"\"\"\n",
    "    seed = 1\n",
    "    indices = build_k_indices(y, k, seed)\n",
    "    loss_tr = []\n",
    "    loss_te = []\n",
    "\n",
    "    for i in range(0, k):\n",
    "        \n",
    "        # get k'th subgroup in test, others in train\n",
    "        test_indices = indices[i].flatten()\n",
    "        train_indices = np.delete(indices, i, axis=0).flatten()\n",
    "        \n",
    "        x_test_group = x[indices[i]].flatten()\n",
    "        x_train_group = x[np.delete(indices, i, axis=0)].flatten()\n",
    "\n",
    "        y_test_group = y[indices[i]].flatten()\n",
    "        y_train_group = y[np.delete(indices, i, axis = 0)].flatten()\n",
    "    \n",
    "        # form data with polynomial degree\n",
    "        x_poly_test = build_poly(x_test_group, degree)\n",
    "        x_poly_train = build_poly(x_train_group, degree)    \n",
    "        \n",
    "        # ridge regression\n",
    "        w_train, loss_train = ridge_regression(y_train_group, x_poly_train, lambda_)\n",
    "        w_test, loss_test = ridge_regression(y_test_group, x_poly_test, lambda_)\n",
    "\n",
    "        loss_tr = np.append(loss_tr, loss_train)\n",
    "        loss_te = np.append(loss_te, loss_test)\n",
    "        \n",
    "    return loss_tr, loss_te"
   ]
  },
  {
   "cell_type": "code",
   "execution_count": 6,
   "metadata": {},
   "outputs": [
    {
     "data": {
      "image/png": "[encoded data removed]",
      "text/plain": [
       "<Figure size 432x288 with 1 Axes>"
      ]
     },
     "metadata": {},
     "output_type": "display_data"
    }
   ],
   "source": [
    "from plots import cross_validation_visualization\n",
    "\n",
    "def cross_validation_demo():\n",
    "    seed = 1\n",
    "    degree = 7\n",
    "    k_fold = 4\n",
    "    lambdas = np.logspace(-4, 0, 30)\n",
    "    # split data in k fold\n",
    "    k_indices = build_k_indices(y, k_fold, seed)\n",
    "    # define lists to store the loss of training data and test data\n",
    "    rmse_tr = []\n",
    "    rmse_te = []\n",
    "    # cross validation\n",
    "    for i in range (0, len(lambdas)):\n",
    "        curr_tr_loss, curr_te_loss = cross_validation(y, x, k_indices, k_fold, lambdas[i], degree)\n",
    "        rmse_tr = np.append(rmse_tr, np.mean(curr_tr_loss))\n",
    "        rmse_te = np.append(rmse_te, np.mean(curr_te_loss))\n",
    "        \n",
    "    cross_validation_visualization(lambdas, rmse_tr, rmse_te)\n",
    "\n",
    "cross_validation_demo()"
   ]
  },
  {
   "cell_type": "markdown",
   "metadata": {},
   "source": [
    "## Bias-Variance Decomposition\n",
    "Visualize bias-variance trade-off by implementing the function `bias_variance_demo()` below:"
   ]
  },
  {
   "cell_type": "code",
   "execution_count": 23,
   "metadata": {},
   "outputs": [
    {
     "name": "stdout",
     "output_type": "stream",
     "text": [
      "0.9995600880660399\n"
     ]
    },
    {
     "data": {
      "image/png": "[encoded data removed]",
      "text/plain": [
       "<Figure size 432x288 with 1 Axes>"
      ]
     },
     "metadata": {},
     "output_type": "display_data"
    }
   ],
   "source": [
    "from least_squares import least_squares\n",
    "from split_data import split_data\n",
    "from plots import bias_variance_decomposition_visualization\n",
    "\n",
    "def bias_variance_demo():\n",
    "    \"\"\"The entry.\"\"\"\n",
    "    # define parameters\n",
    "    seeds = range(100)\n",
    "    num_data = 10000\n",
    "    ratio_train = 0.005\n",
    "    degrees = range(1, 10)\n",
    "    \n",
    "    # define list to store the variable\n",
    "    rmse_tr = np.empty((len(seeds), len(degrees)))\n",
    "    rmse_te = np.empty((len(seeds), len(degrees)))\n",
    "    \n",
    "    for index_seed, seed in enumerate(seeds):\n",
    "        for deg in degrees:\n",
    "            np.random.seed(seed)\n",
    "            x = np.linspace(0.1, 2 * np.pi, num_data)\n",
    "            y = np.sin(x) + 0.3 * np.random.randn(num_data).T\n",
    "\n",
    "            # split data with a specific seed\n",
    "            x_test, x_train, y_test, y_train = split_data(x, y, ratio_train, seed)\n",
    "            x_poly_test = build_poly(x_test, deg)\n",
    "            x_poly_train = build_poly(x_train, deg) \n",
    "        \n",
    "            # bias_variance_decomposition\n",
    "            w_train, loss_train = ridge_regression(y_train, x_poly_train, 1e-5)\n",
    "            w_test, loss_test = ridge_regression(y_test, x_poly_test, 1e-5)\n",
    "        \n",
    "            \n",
    "            rmse_tr[index_seed, deg-1] = 1-loss_train/100\n",
    "            rmse_te[index_seed, deg-1] = 1-loss_test/100\n",
    "\n",
    "    bias_variance_decomposition_visualization(degrees, rmse_tr, rmse_te)\n",
    "\n",
    "bias_variance_demo()"
   ]
  },
  {
   "cell_type": "code",
   "execution_count": null,
   "metadata": {},
   "outputs": [],
   "source": []
  }
 ],
 "metadata": {
  "anaconda-cloud": {},
  "kernelspec": {
   "display_name": "Python 3",
   "language": "python",
   "name": "python3"
  },
  "language_info": {
   "codemirror_mode": {
    "name": "ipython",
    "version": 3
   },
   "file_extension": ".py",
   "mimetype": "text/x-python",
   "name": "python",
   "nbconvert_exporter": "python",
   "pygments_lexer": "ipython3",
   "version": "3.6.5"
  }
 },
 "nbformat": 4,
 "nbformat_minor": 1
}
